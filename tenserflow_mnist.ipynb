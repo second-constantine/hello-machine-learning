{
 "cells": [
  {
   "cell_type": "code",
   "execution_count": 1,
   "metadata": {},
   "outputs": [
    {
     "name": "stdout",
     "output_type": "stream",
     "text": [
      "hello\n"
     ]
    }
   ],
   "source": [
    "print(\"hello\")"
   ]
  },
  {
   "cell_type": "code",
   "execution_count": 2,
   "metadata": {},
   "outputs": [
    {
     "name": "stdout",
     "output_type": "stream",
     "text": [
      "[name: \"/device:CPU:0\"\n",
      "device_type: \"CPU\"\n",
      "memory_limit: 268435456\n",
      "locality {\n",
      "}\n",
      "incarnation: 18113852644524888001\n",
      ", name: \"/device:XLA_CPU:0\"\n",
      "device_type: \"XLA_CPU\"\n",
      "memory_limit: 17179869184\n",
      "locality {\n",
      "}\n",
      "incarnation: 7479502972256274271\n",
      "physical_device_desc: \"device: XLA_CPU device\"\n",
      "]\n"
     ]
    }
   ],
   "source": [
    "import tensorflow\n",
    "from tensorflow.python.client import device_lib\n",
    "from tensorflow.keras.models import Sequential\n",
    "from tensorflow.keras.layers import Flatten, Dense, Dropout\n",
    "from tensorflow.nn import relu as RELU, softmax as SOFTMAX\n",
    "\n",
    "print(device_lib.list_local_devices())"
   ]
  },
  {
   "cell_type": "code",
   "execution_count": 3,
   "metadata": {},
   "outputs": [
    {
     "name": "stdout",
     "output_type": "stream",
     "text": [
      "WARNING:tensorflow:From /home/cstupakevich/.local/lib/python3.6/site-packages/tensorflow/python/ops/init_ops.py:1251: calling VarianceScaling.__init__ (from tensorflow.python.ops.init_ops) with dtype is deprecated and will be removed in a future version.\n",
      "Instructions for updating:\n",
      "Call initializer instance with the dtype argument instead of passing it to the constructor\n",
      "Epoch 1/6\n",
      "60000/60000 [==============================] - 3s 53us/sample - loss: 0.2168 - acc: 0.9364\n",
      "Epoch 2/6\n",
      "60000/60000 [==============================] - 3s 52us/sample - loss: 0.0952 - acc: 0.9714\n",
      "Epoch 3/6\n",
      "60000/60000 [==============================] - 3s 53us/sample - loss: 0.0693 - acc: 0.9782\n",
      "Epoch 4/6\n",
      "60000/60000 [==============================] - 3s 51us/sample - loss: 0.0539 - acc: 0.9826\n",
      "Epoch 5/6\n",
      "60000/60000 [==============================] - 3s 52us/sample - loss: 0.0444 - acc: 0.9854\n",
      "Epoch 6/6\n",
      "60000/60000 [==============================] - 3s 52us/sample - loss: 0.0371 - acc: 0.9877\n",
      "10000/10000 [==============================] - 0s 21us/sample - loss: 0.0650 - acc: 0.9808\n"
     ]
    }
   ],
   "source": [
    "mnist = tensorflow.keras.datasets.mnist\n",
    "\n",
    "(x_train, y_train), (x_test, y_test) = mnist.load_data()\n",
    "x_train, x_test = x_train / 255.0, x_test / 255.0\n",
    "\n",
    "sequential = Sequential([\n",
    "    Flatten(input_shape=(28, 28)),\n",
    "    Dense(512, activation=RELU),\n",
    "    Dropout(0.2),\n",
    "    Dense(10, activation=SOFTMAX)\n",
    "])\n",
    "sequential.compile(optimizer='adam',\n",
    "                   loss='sparse_categorical_crossentropy',\n",
    "                   metrics=['accuracy'])\n",
    "\n",
    "sequential.fit(x_train, y_train, epochs=6)\n",
    "sequential.evaluate(x_test, y_test)\n",
    "\n",
    "sequential.save(\"tenserflow_mnist.tenserflow\")"
   ]
  },
  {
   "cell_type": "code",
   "execution_count": null,
   "metadata": {},
   "outputs": [],
   "source": []
  }
 ],
 "metadata": {
  "kernelspec": {
   "display_name": "Python 3",
   "language": "python",
   "name": "python3"
  },
  "language_info": {
   "codemirror_mode": {
    "name": "ipython",
    "version": 3
   },
   "file_extension": ".py",
   "mimetype": "text/x-python",
   "name": "python",
   "nbconvert_exporter": "python",
   "pygments_lexer": "ipython3",
   "version": "3.6.8"
  }
 },
 "nbformat": 4,
 "nbformat_minor": 2
}
